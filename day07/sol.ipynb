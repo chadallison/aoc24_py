{
 "cells": [
  {
   "cell_type": "markdown",
   "metadata": {},
   "source": [
    "### Advent of Code 2024: Day 7"
   ]
  },
  {
   "cell_type": "code",
   "execution_count": 84,
   "metadata": {},
   "outputs": [],
   "source": [
    "import time\n",
    "start_time = time.time()"
   ]
  },
  {
   "cell_type": "code",
   "execution_count": 85,
   "metadata": {},
   "outputs": [
    {
     "name": "stdout",
     "output_type": "stream",
     "text": [
      "Part 1 solution: 882304362421\n"
     ]
    }
   ],
   "source": [
    "with open(\"input.txt\", 'r') as f:\n",
    "    data = f.read().strip('\\n').split('\\n')\n",
    "\n",
    "def can_make(result, rest):\n",
    "    if len(rest) == 1:\n",
    "        return rest[0] == result\n",
    "\n",
    "    last = rest[-1]\n",
    "    next_power_of_10 = 1\n",
    "\n",
    "    if result % last == 0:\n",
    "        possible_mul = can_make(result // last, rest[:-1])\n",
    "    else:\n",
    "        possible_mul = False\n",
    "    \n",
    "    while next_power_of_10 <= last:\n",
    "        next_power_of_10 *= 10\n",
    "\n",
    "    possible_add = can_make(result - last, rest[:-1])\n",
    "    return possible_mul or possible_add\n",
    "\n",
    "p1 = 0\n",
    "\n",
    "for line in data:\n",
    "    result, rest = line.split(': ')\n",
    "    result = int(result)\n",
    "    rest = [int(x) for x in rest.split()]\n",
    "    if can_make(result, rest):\n",
    "        p1 += result\n",
    "\n",
    "print(f\"Part 1 solution: {p1}\")"
   ]
  },
  {
   "cell_type": "code",
   "execution_count": 86,
   "metadata": {},
   "outputs": [
    {
     "name": "stdout",
     "output_type": "stream",
     "text": [
      "Part 2 solution: 145149066755184\n"
     ]
    }
   ],
   "source": [
    "with open(\"input.txt\", 'r') as f:\n",
    "    data = f.read().strip('\\n').split('\\n')\n",
    "\n",
    "def can_make(result, rest):\n",
    "    if len(rest) == 1:\n",
    "        return rest[0] == result\n",
    "\n",
    "    last = rest[-1]\n",
    "    next_power_of_10 = 1\n",
    "\n",
    "    if result % last == 0:\n",
    "        possible_mul = can_make(result // last, rest[:-1])\n",
    "    else:\n",
    "        possible_mul = False\n",
    "    \n",
    "    while next_power_of_10 <= last:\n",
    "        next_power_of_10 *= 10\n",
    "\n",
    "    if (result - last) % next_power_of_10 == 0:\n",
    "        possible_concat = can_make((result - last) // next_power_of_10, rest[:-1])\n",
    "    else:\n",
    "        possible_concat = False\n",
    "\n",
    "    possible_add = can_make(result - last, rest[:-1])\n",
    "    return possible_mul or possible_add or possible_concat\n",
    "\n",
    "p2 = 0\n",
    "\n",
    "for line in data:\n",
    "    result, rest = line.split(': ')\n",
    "    result = int(result)\n",
    "    rest = [int(x) for x in rest.split()]\n",
    "    if can_make(result, rest):\n",
    "        p2 += result\n",
    "\n",
    "print(f\"Part 2 solution: {p2}\")"
   ]
  },
  {
   "cell_type": "code",
   "execution_count": 87,
   "metadata": {},
   "outputs": [
    {
     "name": "stdout",
     "output_type": "stream",
     "text": [
      "Execution time: 0.07361 seconds\n"
     ]
    }
   ],
   "source": [
    "end_time = time.time()\n",
    "print(f\"Execution time: {end_time - start_time:.5f} seconds\")"
   ]
  }
 ],
 "metadata": {
  "kernelspec": {
   "display_name": "Python 3",
   "language": "python",
   "name": "python3"
  },
  "language_info": {
   "codemirror_mode": {
    "name": "ipython",
    "version": 3
   },
   "file_extension": ".py",
   "mimetype": "text/x-python",
   "name": "python",
   "nbconvert_exporter": "python",
   "pygments_lexer": "ipython3",
   "version": "3.13.1"
  }
 },
 "nbformat": 4,
 "nbformat_minor": 2
}
