{
 "cells": [
  {
   "cell_type": "markdown",
   "metadata": {},
   "source": [
    "### Advent of Code 2024: Day 21"
   ]
  },
  {
   "cell_type": "code",
   "execution_count": 10,
   "metadata": {},
   "outputs": [],
   "source": [
    "import time\n",
    "start_time = time.time()"
   ]
  },
  {
   "cell_type": "code",
   "execution_count": 11,
   "metadata": {},
   "outputs": [
    {
     "name": "stdout",
     "output_type": "stream",
     "text": [
      "Part 1 solution: 154208\n",
      "Part 2 solution: 188000493837892\n"
     ]
    }
   ],
   "source": [
    "from functools import cache\n",
    "\n",
    "NUMPAD = {\n",
    "    '7': 0, '8': 1, '9': 2,\n",
    "    '4': 1j, '5': 1 + 1j, '6': 2 + 1j,\n",
    "    '1': 2j, '2': 1 + 2j, '3': 2 + 2j,\n",
    "    ' ': 3j, '0': 1 + 3j, 'A': 2 + 3j\n",
    "}\n",
    "\n",
    "ARROWS = {\n",
    "    ' ': 0, '^': 1, 'A': 2,\n",
    "    '<': 1j, 'v': 1 + 1j, '>': 2 + 1j\n",
    "}\n",
    "\n",
    "@cache\n",
    "def path(start, end):\n",
    "    pad = NUMPAD if (start in NUMPAD and end in NUMPAD) else ARROWS\n",
    "    diff = pad[end] - pad[start]\n",
    "    dx, dy = int(diff.real), int(diff.imag)\n",
    "    vertical_moves = \"^\" * -dy + \"v\" * dy\n",
    "    horizontal_moves = \"<\" * -dx + \">\" * dx\n",
    "    bad_move = pad[\" \"] - pad[start]\n",
    "    prefer_vertical_first = (dx > 0 or bad_move == dx) and bad_move != dy * 1j\n",
    "    return (vertical_moves + horizontal_moves if prefer_vertical_first else horizontal_moves + vertical_moves) + \"A\"\n",
    "\n",
    "@cache\n",
    "def length(code, depth, total=0):\n",
    "    if depth == 0:\n",
    "        return len(code)\n",
    "    for i, char in enumerate(code):\n",
    "        total += length(path(code[i - 1], char), depth - 1)\n",
    "    return total\n",
    "\n",
    "with open(\"input.txt\", \"r\") as file:\n",
    "    codes = file.read().split()\n",
    "\n",
    "p1 = sum(int(code[:-1]) * length(code, 3) for code in codes)\n",
    "print(f\"Part 1 solution: {p1}\")\n",
    "\n",
    "p2 = sum(int(code[:-1]) * length(code, 26) for code in codes)\n",
    "print(f\"Part 2 solution: {p2}\")"
   ]
  },
  {
   "cell_type": "code",
   "execution_count": 12,
   "metadata": {},
   "outputs": [
    {
     "name": "stdout",
     "output_type": "stream",
     "text": [
      "Execution time: 0.022 seconds\n"
     ]
    }
   ],
   "source": [
    "end_time = time.time()\n",
    "print(f\"Execution time: {end_time - start_time:.3f} seconds\")"
   ]
  }
 ],
 "metadata": {
  "kernelspec": {
   "display_name": "Python 3",
   "language": "python",
   "name": "python3"
  },
  "language_info": {
   "codemirror_mode": {
    "name": "ipython",
    "version": 3
   },
   "file_extension": ".py",
   "mimetype": "text/x-python",
   "name": "python",
   "nbconvert_exporter": "python",
   "pygments_lexer": "ipython3",
   "version": "3.13.1"
  }
 },
 "nbformat": 4,
 "nbformat_minor": 2
}
