{
 "cells": [
  {
   "cell_type": "markdown",
   "metadata": {},
   "source": [
    "### Advent of Code 2024: Day 15"
   ]
  },
  {
   "cell_type": "code",
   "execution_count": 29,
   "metadata": {},
   "outputs": [
    {
     "name": "stdout",
     "output_type": "stream",
     "text": [
      "Part 1 solution: 1349898\n",
      "Part 2 solution: 1376686\n"
     ]
    }
   ],
   "source": [
    "grid, moves = open(\"input.txt\").read().split(\"\\n\\n\")\n",
    "\n",
    "def move(p, d):\n",
    "    p += d\n",
    "    if (\n",
    "        (grid[p] == \"[\" and not (move(p + 1, d) and move(p, d))) or\n",
    "        (grid[p] == \"]\" and not (move(p - 1, d) and move(p, d))) or\n",
    "        (grid[p] == \"O\" and not move(p, d)) or\n",
    "        grid[p] == \"#\"\n",
    "    ):\n",
    "        return False\n",
    "\n",
    "    grid[p], grid[p - d] = grid[p - d], grid[p]\n",
    "    return True\n",
    "\n",
    "grids = [grid, grid.translate(str.maketrans({\"#\":\"##\", \".\":\"..\", \"O\":\"[]\", \"@\":\"@.\"}))]\n",
    "ans = []\n",
    "\n",
    "for grid in grids:\n",
    "    grid = {i + j * 1j: c for j, row in enumerate(grid.split()) for i, c in enumerate(row)}\n",
    "    pos = next(p for p in grid if grid[p] == \"@\")\n",
    "    directions = {\"<\": -1, \">\": 1, \"^\": -1j, \"v\": 1j}\n",
    "\n",
    "    for move_cmd in moves.replace(\"\\n\", \"\"):\n",
    "        direction = directions[move_cmd]\n",
    "        grid_copy = grid.copy()\n",
    "        if move(pos, direction):\n",
    "            pos += direction\n",
    "        else:\n",
    "            grid = grid_copy\n",
    "\n",
    "    result = sum(p for p in grid if grid[p] in \"O[\")\n",
    "    ans.append(int(result.real + result.imag * 100))\n",
    "\n",
    "p1 = ans[0]\n",
    "print(f\"Part 1 solution: {p1}\")\n",
    "\n",
    "p2 = ans[1]\n",
    "print(f\"Part 2 solution: {p2}\")"
   ]
  }
 ],
 "metadata": {
  "kernelspec": {
   "display_name": "Python 3",
   "language": "python",
   "name": "python3"
  },
  "language_info": {
   "codemirror_mode": {
    "name": "ipython",
    "version": 3
   },
   "file_extension": ".py",
   "mimetype": "text/x-python",
   "name": "python",
   "nbconvert_exporter": "python",
   "pygments_lexer": "ipython3",
   "version": "3.13.1"
  }
 },
 "nbformat": 4,
 "nbformat_minor": 2
}
