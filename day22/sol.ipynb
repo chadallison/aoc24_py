{
 "cells": [
  {
   "cell_type": "markdown",
   "metadata": {},
   "source": [
    "### Advent of Code 2024: Day 22"
   ]
  },
  {
   "cell_type": "code",
   "execution_count": 1,
   "metadata": {},
   "outputs": [],
   "source": [
    "import time\n",
    "start_time = time.time()"
   ]
  },
  {
   "cell_type": "code",
   "execution_count": 2,
   "metadata": {},
   "outputs": [
    {
     "name": "stdout",
     "output_type": "stream",
     "text": [
      "Part 1 solution: 13004408787\n",
      "Part 2 solution: 1455\n"
     ]
    }
   ],
   "source": [
    "from collections import defaultdict\n",
    "from itertools import pairwise\n",
    "\n",
    "def f(s):\n",
    "    s ^= s << 6 & 0xFFFFFF\n",
    "    s ^= s >> 5 & 0xFFFFFF\n",
    "    return s ^ s << 11 & 0xFFFFFF\n",
    "\n",
    "p1, p2 = 0, defaultdict(int)\n",
    "\n",
    "for s in map(int, open(\"input.txt\")):\n",
    "    nums = [s] + [s := f(s) for _ in range(2000)]\n",
    "    p1 += nums[-1]\n",
    "    diffs = [b%10-a%10 for a,b in pairwise(nums)]\n",
    "    seen = set()\n",
    "\n",
    "    for i in range(len(nums)-4):\n",
    "        pat = tuple(diffs[i:i+4])\n",
    "        if pat not in seen:\n",
    "            p2[pat] += nums[i+4] % 10\n",
    "            seen.add(pat)\n",
    "\n",
    "print(f\"Part 1 solution: {p1}\")\n",
    "print(f\"Part 2 solution: {max(p2.values())}\")"
   ]
  },
  {
   "cell_type": "code",
   "execution_count": 3,
   "metadata": {},
   "outputs": [
    {
     "name": "stdout",
     "output_type": "stream",
     "text": [
      "Execution time: 4.404 seconds\n"
     ]
    }
   ],
   "source": [
    "end_time = time.time()\n",
    "print(f\"Execution time: {end_time - start_time:.3f} seconds\")"
   ]
  },
  {
   "cell_type": "code",
   "execution_count": null,
   "metadata": {},
   "outputs": [],
   "source": [
    "import pandas as pd\n",
    "import numpy as np\n",
    "from sklearn.model_selection import train_test_split\n",
    "from sklearn.ensemble import RandomForestClassifier\n",
    "from sklearn.metrics import accuracy_score, classification_report\n",
    "\n",
    "# Load the data\n",
    "df = pd.read_csv('nfl_play_by_play_data.csv')\n",
    "\n",
    "# Data Preprocessing: Filter for end of game scores\n",
    "end_game_scores = df[df['desc'] == \"END GAME\"]\n",
    "\n",
    "# Extract relevant information\n",
    "game_scores = end_game_scores[['game_id', 'total_home_score', 'total_away_score', 'home_team', 'away_team']]\n",
    "game_scores['result'] = np.where(game_scores['total_home_score'] > game_scores['total_away_score'], 'home_win', 'away_win')\n",
    "\n",
    "# Feature Engineering: Aggregate useful statistics for each game\n",
    "# Example: Summarize stats such as total yards, turnovers, etc., per game\n",
    "game_stats = df.groupby('game_id').agg({\n",
    "    'yards_gained': 'sum',\n",
    "    'pass_attempt': 'sum',\n",
    "    'rush_attempt': 'sum',\n",
    "    'turnover': 'sum',\n",
    "    'score_differential': 'mean',\n",
    "    # Add other relevant features as needed\n",
    "}).reset_index()\n",
    "\n",
    "# Merge the aggregated stats with the game results\n",
    "game_data = game_scores.merge(game_stats, on='game_id')\n",
    "\n",
    "# Prepare features and labels\n",
    "X = game_data.drop(columns=['game_id', 'result', 'home_team', 'away_team'])\n",
    "y = game_data['result']\n",
    "\n",
    "# Split the data into training and testing sets\n",
    "X_train, X_test, y_train, y_test = train_test_split(X, y, test_size=0.2, random_state=42)\n",
    "\n",
    "# Model Building: Use Random Forest Classifier\n",
    "model = RandomForestClassifier(n_estimators=100, random_state=42)\n",
    "model.fit(X_train, y_train)\n",
    "\n",
    "# Predictions and Evaluation\n",
    "y_pred = model.predict(X_test)\n",
    "print(\"Accuracy:\", accuracy_score(y_test, y_pred))\n",
    "print(\"Classification Report:\")\n",
    "print(classification_report(y_test, y_pred))\n",
    "\n",
    "# Save the model (optional)\n",
    "import joblib\n",
    "joblib.dump(model, 'nfl_game_predictor.pkl')\n"
   ]
  }
 ],
 "metadata": {
  "kernelspec": {
   "display_name": "Python 3",
   "language": "python",
   "name": "python3"
  },
  "language_info": {
   "codemirror_mode": {
    "name": "ipython",
    "version": 3
   },
   "file_extension": ".py",
   "mimetype": "text/x-python",
   "name": "python",
   "nbconvert_exporter": "python",
   "pygments_lexer": "ipython3",
   "version": "3.13.1"
  }
 },
 "nbformat": 4,
 "nbformat_minor": 2
}
