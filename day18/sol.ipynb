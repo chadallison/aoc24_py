{
 "cells": [
  {
   "cell_type": "markdown",
   "metadata": {},
   "source": [
    "### Advent of Code 2024: Day 18"
   ]
  },
  {
   "cell_type": "code",
   "execution_count": 25,
   "metadata": {},
   "outputs": [
    {
     "name": "stdout",
     "output_type": "stream",
     "text": [
      "Part 1 solution: 282\n",
      "Part 2 solution: 64,29\n"
     ]
    }
   ],
   "source": [
    "from bisect import bisect\n",
    "\n",
    "data = list(map(eval, open(\"input.txt\")))\n",
    "\n",
    "def path(index):\n",
    "    seen = set(data[:index])\n",
    "    queue = [(0, (0, 0))]\n",
    "\n",
    "    for distance, (x, y) in queue:\n",
    "        if (x, y) == (70, 70):\n",
    "            return distance\n",
    "\n",
    "        for next_position in [(x, y + 1), (x, y - 1), (x + 1, y), (x - 1, y)]:\n",
    "            if next_position not in seen and 0 <= next_position[0] <= 70 and 0 <= next_position[1] <= 70:\n",
    "                queue.append((distance + 1, next_position))\n",
    "                seen.add(next_position)\n",
    "\n",
    "    return 1e9\n",
    "\n",
    "p1 = path(1024)\n",
    "print(f\"Part 1 solution: {p1}\")\n",
    "\n",
    "p2_tuple = data[bisect(range(len(data)), 1e9 - 1, key=path) - 1]\n",
    "p2 = f\"{p2_tuple[0]},{p2_tuple[1]}\"\n",
    "print(f\"Part 2 solution: {p2}\")"
   ]
  }
 ],
 "metadata": {
  "kernelspec": {
   "display_name": "Python 3",
   "language": "python",
   "name": "python3"
  },
  "language_info": {
   "codemirror_mode": {
    "name": "ipython",
    "version": 3
   },
   "file_extension": ".py",
   "mimetype": "text/x-python",
   "name": "python",
   "nbconvert_exporter": "python",
   "pygments_lexer": "ipython3",
   "version": "3.13.1"
  }
 },
 "nbformat": 4,
 "nbformat_minor": 2
}
