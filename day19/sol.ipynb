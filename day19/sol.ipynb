{
 "cells": [
  {
   "cell_type": "markdown",
   "metadata": {},
   "source": [
    "### Advent of Code 2024: Day 19"
   ]
  },
  {
   "cell_type": "code",
   "execution_count": 27,
   "metadata": {},
   "outputs": [],
   "source": [
    "import time\n",
    "start_time = time.time()"
   ]
  },
  {
   "cell_type": "code",
   "execution_count": 28,
   "metadata": {},
   "outputs": [
    {
     "name": "stdout",
     "output_type": "stream",
     "text": [
      "Part 1 solution: 360\n",
      "Part 2 solution: 577474410989846\n"
     ]
    }
   ],
   "source": [
    "import sys\n",
    "import re\n",
    "import pyperclip as pc\n",
    "\n",
    "sys.setrecursionlimit(10 ** 6)\n",
    "DIRS = [(-1, 0), (0, 1), (1, 0), (0, -1)]\n",
    "p1 = 0\n",
    "p2 = 0\n",
    "D = open(\"input.txt\").read().strip()\n",
    "words, targets = D.split('\\n\\n')\n",
    "words = words.split(', ')\n",
    "DP = {}\n",
    "\n",
    "def pr(s):\n",
    "    print(s)\n",
    "    pc.copy(s)\n",
    "\n",
    "def ints(s):\n",
    "    return [int(x) for x in re.findall('-?\\\\d+', s)]\n",
    "\n",
    "def ways(words, target):\n",
    "    if target in DP:\n",
    "        return DP[target]\n",
    "    if not target:\n",
    "        return 1\n",
    "    ans = sum(ways(words, target[len(word):]) for word in words if target.startswith(word))\n",
    "    DP[target] = ans\n",
    "    return ans\n",
    "\n",
    "for target in targets.split('\\n'):\n",
    "    target_ways = ways(words, target)\n",
    "    if target_ways > 0:\n",
    "        p1 += 1\n",
    "    p2 += target_ways\n",
    "\n",
    "print(f\"Part 1 solution: {p1}\")\n",
    "print(f\"Part 2 solution: {p2}\")"
   ]
  },
  {
   "cell_type": "code",
   "execution_count": 29,
   "metadata": {},
   "outputs": [
    {
     "name": "stdout",
     "output_type": "stream",
     "text": [
      "Execution time: 0.276 seconds\n"
     ]
    }
   ],
   "source": [
    "end_time = time.time()\n",
    "print(f\"Execution time: {end_time - start_time:.3f} seconds\")"
   ]
  }
 ],
 "metadata": {
  "kernelspec": {
   "display_name": "Python 3",
   "language": "python",
   "name": "python3"
  },
  "language_info": {
   "codemirror_mode": {
    "name": "ipython",
    "version": 3
   },
   "file_extension": ".py",
   "mimetype": "text/x-python",
   "name": "python",
   "nbconvert_exporter": "python",
   "pygments_lexer": "ipython3",
   "version": "3.13.1"
  }
 },
 "nbformat": 4,
 "nbformat_minor": 2
}
