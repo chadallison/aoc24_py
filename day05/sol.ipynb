{
 "cells": [
  {
   "cell_type": "markdown",
   "metadata": {},
   "source": [
    "### Advent of Code 2024: Day 5"
   ]
  },
  {
   "cell_type": "code",
   "execution_count": 82,
   "metadata": {},
   "outputs": [],
   "source": [
    "import time\n",
    "start_time = time.time()"
   ]
  },
  {
   "cell_type": "code",
   "execution_count": 83,
   "metadata": {},
   "outputs": [
    {
     "name": "stdout",
     "output_type": "stream",
     "text": [
      "Part 1 solution: 4905\n",
      "Part 2 solution: 6204\n"
     ]
    }
   ],
   "source": [
    "from collections import defaultdict\n",
    "\n",
    "p1, p2 = open(\"input.txt\").read().split(\"\\n\\n\")\n",
    "updates = [list(map(int, line.split(\",\"))) for line in p2.splitlines()]\n",
    "\n",
    "orders = defaultdict(list)\n",
    "\n",
    "for order in p1.splitlines():\n",
    "    before, after = order.split(\"|\")\n",
    "    orders[int(before)].append(int(after))\n",
    "\n",
    "p1 = 0\n",
    "p2 = 0\n",
    "\n",
    "for pages in updates:\n",
    "    sorted_pages = sorted(pages, key=lambda page: -len([order for order in orders[page] if order in pages]))\n",
    "    if pages == sorted_pages:\n",
    "        p1 += pages[len(pages) // 2]\n",
    "    else:\n",
    "        p2 += sorted_pages[len(sorted_pages) // 2]\n",
    "\n",
    "print(f\"Part 1 solution: {p1}\")\n",
    "print(f\"Part 2 solution: {p2}\")"
   ]
  },
  {
   "cell_type": "code",
   "execution_count": 84,
   "metadata": {},
   "outputs": [
    {
     "name": "stdout",
     "output_type": "stream",
     "text": [
      "Execution time: 0.02953 seconds\n"
     ]
    }
   ],
   "source": [
    "end_time = time.time()\n",
    "print(f\"Execution time: {end_time - start_time:.5f} seconds\")"
   ]
  }
 ],
 "metadata": {
  "kernelspec": {
   "display_name": "Python 3",
   "language": "python",
   "name": "python3"
  },
  "language_info": {
   "codemirror_mode": {
    "name": "ipython",
    "version": 3
   },
   "file_extension": ".py",
   "mimetype": "text/x-python",
   "name": "python",
   "nbconvert_exporter": "python",
   "pygments_lexer": "ipython3",
   "version": "3.13.1"
  }
 },
 "nbformat": 4,
 "nbformat_minor": 2
}
