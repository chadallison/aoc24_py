{
 "cells": [
  {
   "cell_type": "markdown",
   "metadata": {},
   "source": [
    "### Advent of Code 2024: Day 10"
   ]
  },
  {
   "cell_type": "code",
   "execution_count": 10,
   "metadata": {},
   "outputs": [
    {
     "name": "stdout",
     "output_type": "stream",
     "text": [
      "Part 1 solution: 786\n",
      "Part 2 solution: 1722\n"
     ]
    }
   ],
   "source": [
    "with open('input.txt') as file:\n",
    "    grid = {i + j * 1j: int(c) for i, row in enumerate(file) for j, c in enumerate(row.strip())}\n",
    "\n",
    "def search(position, visited, current_height=0):\n",
    "    if position in grid and grid[position] == current_height:\n",
    "        if current_height < 9 or (part == 1 and position in visited):\n",
    "            return sum(search(position + direction, visited, current_height + 1) for direction in [1, -1, 1j, -1j])\n",
    "        visited.add(position)\n",
    "        return 1\n",
    "    return 0\n",
    "\n",
    "part = 1\n",
    "p1 = sum(search(pos, set()) for pos in grid if grid[pos] == 0)\n",
    "print(f\"Part 1 solution: {p1}\")\n",
    "\n",
    "part = 2\n",
    "p2 = sum(search(pos, set()) for pos in grid if grid[pos] == 0)\n",
    "print(f\"Part 2 solution: {p2}\")"
   ]
  }
 ],
 "metadata": {
  "kernelspec": {
   "display_name": "Python 3",
   "language": "python",
   "name": "python3"
  },
  "language_info": {
   "codemirror_mode": {
    "name": "ipython",
    "version": 3
   },
   "file_extension": ".py",
   "mimetype": "text/x-python",
   "name": "python",
   "nbconvert_exporter": "python",
   "pygments_lexer": "ipython3",
   "version": "3.13.1"
  }
 },
 "nbformat": 4,
 "nbformat_minor": 2
}
