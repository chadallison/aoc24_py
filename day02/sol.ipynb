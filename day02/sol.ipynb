{
 "cells": [
  {
   "cell_type": "markdown",
   "metadata": {},
   "source": [
    "### Advent of Code 2024: Day 2"
   ]
  },
  {
   "cell_type": "code",
   "execution_count": 39,
   "metadata": {},
   "outputs": [
    {
     "name": "stdout",
     "output_type": "stream",
     "text": [
      "Part 1 solution: 639\n"
     ]
    }
   ],
   "source": [
    "with open(\"input.txt\", \"r\") as f:\n",
    "    input = [list(map(int, l.split())) for l in f]\n",
    "\n",
    "def strictly_increasing(lst):\n",
    "    return all(1 <= (lst[i + 1] - lst[i]) <= 3 for i in range(len(lst) - 1))\n",
    "\n",
    "def strictly_decreasing(lst):\n",
    "    return all(1 <= (lst[i] - lst[i + 1]) <= 3 for i in range(len(lst) - 1))\n",
    "\n",
    "p1 = sum(1 for line in input if strictly_increasing(line) or strictly_decreasing(line))\n",
    "print(f\"Part 1 solution: {p1}\")"
   ]
  },
  {
   "cell_type": "code",
   "execution_count": 40,
   "metadata": {},
   "outputs": [
    {
     "name": "stdout",
     "output_type": "stream",
     "text": [
      "Part 2 solution: 674\n"
     ]
    }
   ],
   "source": [
    "def is_safe_with_tolerance(lst):\n",
    "    if strictly_increasing(lst) or strictly_decreasing(lst):\n",
    "        return True\n",
    "    for i in range(len(lst)):\n",
    "        # Remove one element and check if the remaining list is safe\n",
    "        modified_lst = lst[:i] + lst[i + 1:]\n",
    "        if strictly_increasing(modified_lst) or strictly_decreasing(modified_lst):\n",
    "            return True\n",
    "    return False\n",
    "\n",
    "p2 = sum(1 for line in input if is_safe_with_tolerance(line))\n",
    "print(f\"Part 2 solution: {p2}\")"
   ]
  }
 ],
 "metadata": {
  "kernelspec": {
   "display_name": "Python 3",
   "language": "python",
   "name": "python3"
  },
  "language_info": {
   "codemirror_mode": {
    "name": "ipython",
    "version": 3
   },
   "file_extension": ".py",
   "mimetype": "text/x-python",
   "name": "python",
   "nbconvert_exporter": "python",
   "pygments_lexer": "ipython3",
   "version": "3.13.1"
  }
 },
 "nbformat": 4,
 "nbformat_minor": 2
}
