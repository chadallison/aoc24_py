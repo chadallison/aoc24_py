{
 "cells": [
  {
   "cell_type": "markdown",
   "metadata": {},
   "source": [
    "### Advent of Code 2024: Day 16"
   ]
  },
  {
   "cell_type": "code",
   "execution_count": 18,
   "metadata": {},
   "outputs": [
    {
     "name": "stdout",
     "output_type": "stream",
     "text": [
      "Part 1 solution: 91464\n",
      "Part 2 solution: 494\n"
     ]
    }
   ],
   "source": [
    "import heapq\n",
    "\n",
    "def parse(lines):\n",
    "    grid = []\n",
    "    line = 0\n",
    "    for line in range(len(lines)):\n",
    "        grid.append(list(lines[line].strip()))\n",
    "\n",
    "    s = None\n",
    "    e = None\n",
    "    for r, row in enumerate(grid):\n",
    "        for c, ch in enumerate(row):\n",
    "            if ch == \"S\":\n",
    "                s = (r, c)\n",
    "            elif ch == \"E\":\n",
    "                e = (r, c)\n",
    "    return grid, s, e\n",
    "\n",
    "def dijkstra(grid, starts):\n",
    "    delta = {\"E\": (0, 1), \"W\": (0, -1), \"N\": (-1, 0), \"S\": (1, 0)}\n",
    "\n",
    "    dist = {}\n",
    "    pq = []\n",
    "    for sr, sc, dir in starts:\n",
    "        dist[(sr, sc, dir)] = 0\n",
    "        heapq.heappush(pq, (0, sr, sc, dir))\n",
    "\n",
    "    while pq:\n",
    "        (d, row, col, direction) = heapq.heappop(pq)\n",
    "        if dist[(row, col, direction)] < d:\n",
    "            continue\n",
    "        for next_dir in \"EWNS\".replace(direction, \"\"):\n",
    "            if (row, col, next_dir) not in dist or dist[\n",
    "                (row, col, next_dir)\n",
    "            ] > d + 1000:\n",
    "                dist[(row, col, next_dir)] = d + 1000\n",
    "                heapq.heappush(pq, (d + 1000, row, col, next_dir))\n",
    "        dr, dc = delta[direction]\n",
    "        next_row, next_col = row + dr, col + dc\n",
    "        if (\n",
    "            0 <= next_row < len(grid)\n",
    "            and 0 <= next_col < len(grid[0])\n",
    "            and grid[next_row][next_col] != \"#\"\n",
    "            and (\n",
    "                (next_row, next_col, direction) not in dist\n",
    "                or dist[(next_row, next_col, direction)] > d + 1\n",
    "            )\n",
    "        ):\n",
    "            dist[(next_row, next_col, direction)] = d + 1\n",
    "            heapq.heappush(pq, (d + 1, next_row, next_col, direction))\n",
    "\n",
    "    return dist\n",
    "\n",
    "def part1(input):\n",
    "    grid, (sr, sc), (er, ec) = input\n",
    "    dist = dijkstra(grid, [(sr, sc, \"E\")])\n",
    "    best = 1000000000\n",
    "    for dir in \"EWNS\":\n",
    "        if (er, ec, dir) in dist:\n",
    "            best = min(best, dist[(er, ec, dir)])\n",
    "    return best\n",
    "\n",
    "def part2(input):\n",
    "    grid, (sr, sc), (er, ec) = input\n",
    "    from_start = dijkstra(grid, [(sr, sc, \"E\")])\n",
    "    from_end = dijkstra(grid, [(er, ec, d) for d in \"EWNS\"])\n",
    "    optimal = part1(input)\n",
    "    flip = {\"E\": \"W\", \"W\": \"E\", \"N\": \"S\", \"S\": \"N\"}\n",
    "    result = set()\n",
    "    for row in range(len(grid)):\n",
    "        for col in range(len(grid[0])):\n",
    "            for dir in \"EWNS\":\n",
    "                state_from_start = (row, col, dir)\n",
    "                state_from_end = (row, col, flip[dir])\n",
    "                if state_from_start in from_start and state_from_end in from_end:\n",
    "                    if (\n",
    "                        from_start[state_from_start] + from_end[state_from_end]\n",
    "                        == optimal\n",
    "                    ):\n",
    "                        result.add((row, col))\n",
    "    return len(result)\n",
    "\n",
    "input = parse(open(\"input.txt\").readlines())\n",
    "\n",
    "p1 = part1(input)\n",
    "print(f\"Part 1 solution: {p1}\")\n",
    "\n",
    "p2 = part2(input)\n",
    "print(f\"Part 2 solution: {p2}\")"
   ]
  }
 ],
 "metadata": {
  "kernelspec": {
   "display_name": "Python 3",
   "language": "python",
   "name": "python3"
  },
  "language_info": {
   "codemirror_mode": {
    "name": "ipython",
    "version": 3
   },
   "file_extension": ".py",
   "mimetype": "text/x-python",
   "name": "python",
   "nbconvert_exporter": "python",
   "pygments_lexer": "ipython3",
   "version": "3.13.1"
  }
 },
 "nbformat": 4,
 "nbformat_minor": 2
}
