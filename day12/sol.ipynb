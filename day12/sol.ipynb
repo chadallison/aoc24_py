{
 "cells": [
  {
   "cell_type": "markdown",
   "metadata": {},
   "source": [
    "### Advent of Code 2024: Day 12"
   ]
  },
  {
   "cell_type": "code",
   "execution_count": null,
   "metadata": {},
   "outputs": [
    {
     "name": "stdout",
     "output_type": "stream",
     "text": [
      "Part 1 solution: 1465968\n",
      "Part 2 solution: 897702\n"
     ]
    }
   ],
   "source": [
    "import sys\n",
    "from collections import deque, defaultdict\n",
    "import pyperclip as pc\n",
    "\n",
    "def pr(s):\n",
    "    print(s)\n",
    "    pc.copy(s)\n",
    "\n",
    "sys.setrecursionlimit(10 ** 6)\n",
    "DIRS = [(-1, 0), (0, 1), (1, 0), (0, -1)]\n",
    "infile = \"input.txt\"\n",
    "\n",
    "data = open(infile).read().strip()\n",
    "grid = data.split('\\n')\n",
    "rows, cols = len(grid), len(grid[0])\n",
    "\n",
    "seen = set()\n",
    "p1, p2 = 0, 0\n",
    "\n",
    "def bfs_area_perimeter(start_r, start_c):\n",
    "    queue = deque([(start_r, start_c)])\n",
    "    local_area, local_perimeter = 0, 0\n",
    "    local_sides = defaultdict(set)\n",
    "    \n",
    "    while queue:\n",
    "        r, c = queue.popleft()\n",
    "        if (r, c) in seen:\n",
    "            continue\n",
    "        seen.add((r, c))\n",
    "        local_area += 1\n",
    "        for dr, dc in DIRS:\n",
    "            rr, cc = r + dr, c + dc\n",
    "            if 0 <= rr < rows and 0 <= cc < cols and grid[rr][cc] == grid[r][c]:\n",
    "                if (rr, cc) not in seen:\n",
    "                    queue.append((rr, cc))\n",
    "            else:\n",
    "                local_perimeter += 1\n",
    "                local_sides[(dr, dc)].add((r, c))\n",
    "\n",
    "    return local_area, local_perimeter, local_sides\n",
    "\n",
    "def calculate_sides(local_sides):\n",
    "    total_sides = 0\n",
    "    for vs in local_sides.values():\n",
    "        seen_perim = set()\n",
    "        for pr, pc in vs:\n",
    "            if (pr, pc) not in seen_perim:\n",
    "                total_sides += 1\n",
    "                queue = deque([(pr, pc)])\n",
    "                while queue:\n",
    "                    r, c = queue.popleft()\n",
    "                    if (r, c) in seen_perim:\n",
    "                        continue\n",
    "                    seen_perim.add((r, c))\n",
    "                    for dr, dc in DIRS:\n",
    "                        rr, cc = r + dr, c + dc\n",
    "                        if (rr, cc) in vs and (rr, cc) not in seen_perim:\n",
    "                            queue.append((rr, cc))\n",
    "    return total_sides\n",
    "\n",
    "for r in range(rows):\n",
    "    for c in range(cols):\n",
    "        if (r, c) not in seen:\n",
    "            area, perimeter, sides_dict = bfs_area_perimeter(r, c)\n",
    "            sides = calculate_sides(sides_dict)\n",
    "            p1 += area * perimeter\n",
    "            p2 += area * sides\n",
    "\n",
    "pr(f\"Part 1 solution: {p1}\")\n",
    "pr(f\"Part 2 solution: {p2}\")"
   ]
  }
 ],
 "metadata": {
  "kernelspec": {
   "display_name": "Python 3",
   "language": "python",
   "name": "python3"
  },
  "language_info": {
   "codemirror_mode": {
    "name": "ipython",
    "version": 3
   },
   "file_extension": ".py",
   "mimetype": "text/x-python",
   "name": "python",
   "nbconvert_exporter": "python",
   "pygments_lexer": "ipython3",
   "version": "3.13.1"
  }
 },
 "nbformat": 4,
 "nbformat_minor": 2
}
