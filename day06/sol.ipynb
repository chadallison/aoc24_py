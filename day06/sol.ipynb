{
 "cells": [
  {
   "cell_type": "markdown",
   "metadata": {},
   "source": [
    "### Advent of Code 2024: Day 6"
   ]
  },
  {
   "cell_type": "code",
   "execution_count": 19,
   "metadata": {},
   "outputs": [
    {
     "name": "stdout",
     "output_type": "stream",
     "text": [
      "Part 1 solution: 5453\n"
     ]
    }
   ],
   "source": [
    "with open(\"input.txt\") as f:\n",
    "  rows = [line.strip() for line in f.read().strip().split(\"\\n\")]\n",
    "\n",
    "width, height = len(rows[0]), len(rows)\n",
    "sx, sy = next((x, y) for y, row in enumerate(rows) for x, c in enumerate(row) if c in \"<>v^\")\n",
    "\n",
    "directions = [(1, 0), (0, 1), (-1, 0), (0, -1)]\n",
    "\n",
    "direction_map = {\n",
    "  \">\": (1, 0),\n",
    "  \"<\": (-1, 0),\n",
    "  \"^\": (0, -1),\n",
    "  \"v\": (0, 1)\n",
    "}\n",
    "\n",
    "def get_jump_location(x, y, dindex):\n",
    "  if rows[y][x] == \"#\":\n",
    "    return None\n",
    "  \n",
    "  dx, dy = directions[dindex]\n",
    "  while x >= 0 and y >= 0 and x < width and y < height and rows[y][x] != \"#\":\n",
    "    x += dx\n",
    "    y += dy\n",
    "  \n",
    "  if x < 0 or y < 0 or x >= width or y >= height:\n",
    "    return (x, y, None)\n",
    "  \n",
    "  x -= dx\n",
    "  y -= dy\n",
    "  dindex = (dindex + 1) % 4\n",
    "  return (x, y, dindex)\n",
    "\n",
    "jump_map = {(x, y, di): get_jump_location(x, y, di) for x in range(width) for y in range(height) for di in range(len(directions))}\n",
    "\n",
    "def jump_into_block(dindex, block_patch):\n",
    "  dx, dy = directions[dindex]\n",
    "  bx, by = block_patch\n",
    "  return (bx - dx, by - dy, (dindex + 1) % 4)\n",
    "\n",
    "def jump(x, y, dindex, block_patch):\n",
    "  dest = jump_map[x, y, dindex]\n",
    "  if block_patch is not None and dest is not None:\n",
    "    fx, fy, _ = dest\n",
    "    bx, by = block_patch\n",
    "    if fx == bx and min(y, fy) <= by <= max(y, fy):\n",
    "      return jump_into_block(dindex, block_patch)\n",
    "    elif min(x, fx) <= bx <= max(x, fx) and fy == by:\n",
    "      return jump_into_block(dindex, block_patch) \n",
    "  return dest\n",
    "\n",
    "\n",
    "def get_full_path():\n",
    "  x, y = sx, sy\n",
    "  visited = set()\n",
    "  dindex = directions.index(direction_map[rows[y][x]])\n",
    "  step = 0\n",
    "\n",
    "  while True:\n",
    "    visited.add((x, y))\n",
    "    dx, dy = directions[dindex]\n",
    "    x, y = x + dx, y + dy\n",
    "    step += 1\n",
    "    if x < 0 or y < 0 or x >= width or y >= height:\n",
    "      break\n",
    "    elif rows[y][x] == \"#\":\n",
    "      x, y = x - dx, y - dy\n",
    "      dindex = (dindex + 1) % len(directions)\n",
    "  \n",
    "  return visited\n",
    "\n",
    "def path_loops_with_patch(block_patch):\n",
    "  x, y = sx, sy, \n",
    "  dindex = directions.index(direction_map[rows[y][x]])\n",
    "  visited = set()\n",
    "\n",
    "  while True:\n",
    "    x, y, dindex = jump(x, y, dindex, block_patch)\n",
    "    if dindex is None:\n",
    "      return False\n",
    "\n",
    "    if (x, y, dindex) in visited:\n",
    "      return True\n",
    "    \n",
    "    visited.add((x, y, dindex))\n",
    "\n",
    "path = get_full_path()\n",
    "p1 = len(path)\n",
    "print(f\"Part 1 solution: {p1}\")"
   ]
  },
  {
   "cell_type": "code",
   "execution_count": 12,
   "metadata": {},
   "outputs": [
    {
     "name": "stdout",
     "output_type": "stream",
     "text": [
      "Part 2 solution: 2188\n"
     ]
    }
   ],
   "source": [
    "p2 = 0\n",
    "\n",
    "for block in path:\n",
    "  if block != (sx, sy) and path_loops_with_patch(block):\n",
    "    p2 += 1\n",
    "  \n",
    "print(f\"Part 2 solution: {p2}\")"
   ]
  }
 ],
 "metadata": {
  "kernelspec": {
   "display_name": "Python 3",
   "language": "python",
   "name": "python3"
  },
  "language_info": {
   "codemirror_mode": {
    "name": "ipython",
    "version": 3
   },
   "file_extension": ".py",
   "mimetype": "text/x-python",
   "name": "python",
   "nbconvert_exporter": "python",
   "pygments_lexer": "ipython3",
   "version": "3.13.1"
  }
 },
 "nbformat": 4,
 "nbformat_minor": 2
}
