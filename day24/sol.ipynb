{
 "cells": [
  {
   "cell_type": "markdown",
   "metadata": {},
   "source": [
    "### Advent of Code 2024: Day 24"
   ]
  },
  {
   "cell_type": "code",
   "execution_count": 9,
   "metadata": {},
   "outputs": [],
   "source": [
    "import time\n",
    "start_time = time.time()"
   ]
  },
  {
   "cell_type": "code",
   "execution_count": 10,
   "metadata": {},
   "outputs": [
    {
     "name": "stdout",
     "output_type": "stream",
     "text": [
      "Part 1 solution: 51410244478064\n",
      "Part 2 solution: gst,khg,nhn,tvb,vdc,z12,z21,z33\n"
     ]
    }
   ],
   "source": [
    "wires = {}\n",
    "operations = []\n",
    "\n",
    "def process(op, op1, op2):\n",
    "    if op == \"AND\":\n",
    "        return op1 & op2\n",
    "    elif op == \"OR\":\n",
    "        return op1 | op2\n",
    "    elif op == \"XOR\":\n",
    "        return op1 ^ op2\n",
    "\n",
    "highest_z = \"z00\"\n",
    "data = open(\"input.txt\").read().split(\"\\n\")\n",
    "for line in data:\n",
    "    if \":\" in line:\n",
    "        wire, value = line.split(\": \")\n",
    "        wires[wire] = int(value)\n",
    "    elif \"->\" in line:\n",
    "        op1, op, op2, _, res = line.split(\" \")\n",
    "        operations.append((op1, op, op2, res))\n",
    "        if res[0] == \"z\" and int(res[1:]) > int(highest_z[1:]):\n",
    "            highest_z = res\n",
    "\n",
    "wrong = set()\n",
    "for op1, op, op2, res in operations:\n",
    "    if res[0] == \"z\" and op != \"XOR\" and res != highest_z:\n",
    "        wrong.add(res)\n",
    "    if (\n",
    "        op == \"XOR\"\n",
    "        and res[0] not in [\"x\", \"y\", \"z\"]\n",
    "        and op1[0] not in [\"x\", \"y\", \"z\"]\n",
    "        and op2[0] not in [\"x\", \"y\", \"z\"]\n",
    "    ):\n",
    "        wrong.add(res)\n",
    "    if op == \"AND\" and \"x00\" not in [op1, op2]:\n",
    "        for subop1, subop, subop2, subres in operations:\n",
    "            if (res == subop1 or res == subop2) and subop != \"OR\":\n",
    "                wrong.add(res)\n",
    "    if op == \"XOR\":\n",
    "        for subop1, subop, subop2, subres in operations:\n",
    "            if (res == subop1 or res == subop2) and subop == \"OR\":\n",
    "                wrong.add(res)\n",
    "\n",
    "while len(operations):\n",
    "    op1, op, op2, res = operations.pop(0)\n",
    "    if op1 in wires and op2 in wires:\n",
    "        wires[res] = process(op, wires[op1], wires[op2])\n",
    "    else:\n",
    "        operations.append((op1, op, op2, res))\n",
    "\n",
    "bits = [str(wires[wire]) for wire in sorted(wires, reverse=True) if wire[0] == \"z\"]\n",
    "p1 = int(\"\".join(bits), 2)\n",
    "print(f\"Part 1 solution: {p1}\")\n",
    "\n",
    "p2 = \",\".join(sorted(wrong))\n",
    "print(f\"Part 2 solution: {p2}\")"
   ]
  },
  {
   "cell_type": "code",
   "execution_count": 11,
   "metadata": {},
   "outputs": [
    {
     "name": "stdout",
     "output_type": "stream",
     "text": [
      "Execution time: 0.027 seconds\n"
     ]
    }
   ],
   "source": [
    "end_time = time.time()\n",
    "print(f\"Execution time: {end_time - start_time:.3f} seconds\")"
   ]
  }
 ],
 "metadata": {
  "kernelspec": {
   "display_name": "Python 3",
   "language": "python",
   "name": "python3"
  },
  "language_info": {
   "codemirror_mode": {
    "name": "ipython",
    "version": 3
   },
   "file_extension": ".py",
   "mimetype": "text/x-python",
   "name": "python",
   "nbconvert_exporter": "python",
   "pygments_lexer": "ipython3",
   "version": "3.13.1"
  }
 },
 "nbformat": 4,
 "nbformat_minor": 2
}
