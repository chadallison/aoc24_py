{
 "cells": [
  {
   "cell_type": "markdown",
   "metadata": {},
   "source": [
    "### Advent of Code 2024: Day 8"
   ]
  },
  {
   "cell_type": "code",
   "execution_count": 16,
   "metadata": {},
   "outputs": [
    {
     "name": "stdout",
     "output_type": "stream",
     "text": [
      "Part 1 solution: 273\n",
      "Part 2 solution: 1017\n"
     ]
    }
   ],
   "source": [
    "from collections import defaultdict\n",
    "from itertools import combinations\n",
    "\n",
    "def parse_input(filename = \"input.txt\"):\n",
    "    with open(filename, \"r\") as file:\n",
    "        grid = file.read().splitlines()\n",
    "\n",
    "    antennas = defaultdict(list)\n",
    "    for i, row in enumerate(grid):\n",
    "        for j, v in enumerate(row):\n",
    "            if v != \".\":\n",
    "                antennas[v].append((i, j))\n",
    "\n",
    "    return antennas, len(grid), len(grid[0])\n",
    "\n",
    "def calc_antinodes(u, v, n, m, pt2=False):\n",
    "    ui, uj = u\n",
    "    vi, vj = v\n",
    "    di, dj = ui - vi, uj - vj\n",
    "\n",
    "    res = {(ui, uj), (vi, vj)} if pt2 else set()\n",
    "    ui += di\n",
    "    uj += dj\n",
    "\n",
    "    while 0 <= ui < n and 0 <= uj < m:\n",
    "        res.add((ui, uj))\n",
    "        if not pt2:\n",
    "            break\n",
    "        ui += di\n",
    "        uj += dj\n",
    "\n",
    "    vi -= di\n",
    "    vj -= dj\n",
    "\n",
    "    while 0 <= vi < n and 0 <= vj < m:\n",
    "        res.add((vi, vj))\n",
    "        if not pt2:\n",
    "            break\n",
    "        vi -= di\n",
    "        vj -= dj\n",
    "\n",
    "    return res\n",
    "\n",
    "def solve(antennas, n, m, pt2=False):\n",
    "    antinode_set = set()\n",
    "    for locs in antennas.values():\n",
    "        for u, v in combinations(locs, 2):\n",
    "            antinode_set.update(calc_antinodes(u, v, n, m, pt2))\n",
    "    return len(antinode_set)\n",
    "\n",
    "def part_one(antennas, n, m):\n",
    "    return solve(antennas, n, m, pt2=False)\n",
    "\n",
    "def part_two(antennas, n, m):\n",
    "    return solve(antennas, n, m, pt2=True)\n",
    "\n",
    "ANTENNAS, N, M = parse_input()\n",
    "p1 = part_one(ANTENNAS, N, M)\n",
    "p2 = part_two(ANTENNAS, N, M)\n",
    "print(f\"Part 1 solution: {p1}\")\n",
    "print(f\"Part 2 solution: {p2}\")\n"
   ]
  }
 ],
 "metadata": {
  "kernelspec": {
   "display_name": "Python 3",
   "language": "python",
   "name": "python3"
  },
  "language_info": {
   "codemirror_mode": {
    "name": "ipython",
    "version": 3
   },
   "file_extension": ".py",
   "mimetype": "text/x-python",
   "name": "python",
   "nbconvert_exporter": "python",
   "pygments_lexer": "ipython3",
   "version": "3.13.1"
  }
 },
 "nbformat": 4,
 "nbformat_minor": 2
}
