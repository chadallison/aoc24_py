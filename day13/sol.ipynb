{
 "cells": [
  {
   "cell_type": "markdown",
   "metadata": {},
   "source": [
    "### Advent of Code 2024: Day 13"
   ]
  },
  {
   "cell_type": "code",
   "execution_count": 15,
   "metadata": {},
   "outputs": [
    {
     "name": "stdout",
     "output_type": "stream",
     "text": [
      "Part 1 solution: 34787\n",
      "Part 2 solution: 85644161121698\n"
     ]
    }
   ],
   "source": [
    "def parse_button(line):\n",
    "    parts = line.split()\n",
    "    key = parts[1].split(\":\")[0]\n",
    "    x = int(parts[2][2:-1])\n",
    "    y = int(parts[3][2:])\n",
    "    return key, x, y\n",
    "\n",
    "def parse_prize(line, add):\n",
    "    parts = line.split()\n",
    "    c = int(parts[1][2:-1]) + add\n",
    "    d = int(parts[2][2:]) + add\n",
    "    return c, d\n",
    "\n",
    "with open(\"input.txt\") as f:\n",
    "    lines = [line.rstrip() for line in f]\n",
    "\n",
    "def solve(part: int):\n",
    "    tokens = 0\n",
    "    add = 10000000000000 if part == 2 else 0\n",
    "    coords = {}\n",
    "\n",
    "    for line in lines:\n",
    "        if line.startswith(\"Button\"):\n",
    "            key, x, y = parse_button(line)\n",
    "            coords[key] = (x, y)\n",
    "        \n",
    "        elif line.startswith(\"Prize\"):\n",
    "            c, d = parse_prize(line, add)\n",
    "            (x1, y1) = coords.get(\"A\", (0, 0))\n",
    "            (x2, y2) = coords.get(\"B\", (0, 0))\n",
    "            \n",
    "            denominator = x1 * y2 - y1 * x2\n",
    "            if denominator == 0:\n",
    "                continue\n",
    "\n",
    "            a = (c * y2 - d * x2) / denominator\n",
    "            b = (d * x1 - c * y1) / denominator\n",
    "\n",
    "            if a.is_integer() and b.is_integer():\n",
    "                tokens += int(3 * a + b)\n",
    "\n",
    "    return tokens\n",
    "\n",
    "p1 = solve(1)\n",
    "print(f\"Part 1 solution: {p1}\")\n",
    "\n",
    "p2 = solve(2)\n",
    "print(f\"Part 2 solution: {p2}\")"
   ]
  }
 ],
 "metadata": {
  "kernelspec": {
   "display_name": "Python 3",
   "language": "python",
   "name": "python3"
  },
  "language_info": {
   "codemirror_mode": {
    "name": "ipython",
    "version": 3
   },
   "file_extension": ".py",
   "mimetype": "text/x-python",
   "name": "python",
   "nbconvert_exporter": "python",
   "pygments_lexer": "ipython3",
   "version": "3.13.1"
  }
 },
 "nbformat": 4,
 "nbformat_minor": 2
}
