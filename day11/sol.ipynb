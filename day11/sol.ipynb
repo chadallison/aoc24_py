{
 "cells": [
  {
   "cell_type": "markdown",
   "metadata": {},
   "source": [
    "### Advent of Code 2024: Day 11"
   ]
  },
  {
   "cell_type": "code",
   "execution_count": 6,
   "metadata": {},
   "outputs": [
    {
     "name": "stdout",
     "output_type": "stream",
     "text": [
      "Part 1 solution: 218079\n",
      "Part 2 solution: 259755538429618\n"
     ]
    }
   ],
   "source": [
    "stones = list(map(int, open(\"input.txt\").readline().strip().split()))\n",
    "\n",
    "memory = {}\n",
    "\n",
    "def solve(stone, blinks):\n",
    "    if blinks == 0:\n",
    "        return 1\n",
    "    elif (stone, blinks) in memory:\n",
    "        return memory[(stone, blinks)]\n",
    "    elif stone == 0:\n",
    "        val = solve(1, blinks - 1)\n",
    "    elif len(str_stone := str(stone)) % 2 == 0:\n",
    "        mid = len(str_stone) // 2\n",
    "        val = solve(int(str_stone[:mid]), blinks - 1) + solve(int(str_stone[mid:]), blinks - 1)\n",
    "    else:\n",
    "        val = solve(stone * 2024, blinks - 1)\n",
    "    memory[(stone, blinks)] = val\n",
    "    return val\n",
    "\n",
    "p1 = sum(solve(stone, 25) for stone in stones)\n",
    "print(f\"Part 1 solution: {p1}\")\n",
    "\n",
    "p2 = sum(solve(stone, 75) for stone in stones)\n",
    "print(f\"Part 2 solution: {p2}\")"
   ]
  }
 ],
 "metadata": {
  "kernelspec": {
   "display_name": "Python 3",
   "language": "python",
   "name": "python3"
  },
  "language_info": {
   "codemirror_mode": {
    "name": "ipython",
    "version": 3
   },
   "file_extension": ".py",
   "mimetype": "text/x-python",
   "name": "python",
   "nbconvert_exporter": "python",
   "pygments_lexer": "ipython3",
   "version": "3.13.1"
  }
 },
 "nbformat": 4,
 "nbformat_minor": 2
}
