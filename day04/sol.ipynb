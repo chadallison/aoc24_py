{
 "cells": [
  {
   "cell_type": "markdown",
   "metadata": {},
   "source": [
    "### Advent of Code 2024: Day 4"
   ]
  },
  {
   "cell_type": "code",
   "execution_count": 15,
   "metadata": {},
   "outputs": [
    {
     "name": "stdout",
     "output_type": "stream",
     "text": [
      "Part 1 solution: 2718\n"
     ]
    }
   ],
   "source": [
    "with open(\"input.txt\") as f:\n",
    "    data = f.read().splitlines()\n",
    "\n",
    "H, W = len(data), len(data[0])\n",
    "grid = {(y, x): data[y][x] for y in range(H) for x in range(W)}\n",
    "\n",
    "TARGET = \"XMAS\"\n",
    "DELTAS = [(dy, dx) for dy in [-1, 0, 1] for dx in [-1, 0, 1] if dy or dx]\n",
    "\n",
    "p1 = sum(\n",
    "    all(grid.get((y + dy * i, x + dx * i)) == TARGET[i] for i in range(len(TARGET)))\n",
    "    for y, x in grid\n",
    "    for dy, dx in DELTAS\n",
    ")\n",
    "\n",
    "print(f\"Part 1 solution: {p1}\")"
   ]
  },
  {
   "cell_type": "code",
   "execution_count": 16,
   "metadata": {},
   "outputs": [
    {
     "name": "stdout",
     "output_type": "stream",
     "text": [
      "Part 2 solution: 2046\n"
     ]
    }
   ],
   "source": [
    "p2 = sum(\n",
    "    {grid.get((y - 1, x - 1), \"\") + grid.get((y + 1, x + 1), \"\"),\n",
    "     grid.get((y - 1, x + 1), \"\") + grid.get((y + 1, x - 1), \"\")} <= {\"MS\", \"SM\"}\n",
    "    for y, x in grid if grid[y, x] == \"A\"\n",
    ")\n",
    "\n",
    "print(f\"Part 2 solution: {p2}\")"
   ]
  }
 ],
 "metadata": {
  "kernelspec": {
   "display_name": "Python 3",
   "language": "python",
   "name": "python3"
  },
  "language_info": {
   "codemirror_mode": {
    "name": "ipython",
    "version": 3
   },
   "file_extension": ".py",
   "mimetype": "text/x-python",
   "name": "python",
   "nbconvert_exporter": "python",
   "pygments_lexer": "ipython3",
   "version": "3.13.1"
  }
 },
 "nbformat": 4,
 "nbformat_minor": 2
}
