{
 "cells": [
  {
   "cell_type": "markdown",
   "metadata": {},
   "source": [
    "### Advent of Code 2024: Day 23"
   ]
  },
  {
   "cell_type": "code",
   "execution_count": 15,
   "metadata": {},
   "outputs": [],
   "source": [
    "import time\n",
    "start_time = time.time()"
   ]
  },
  {
   "cell_type": "code",
   "execution_count": 16,
   "metadata": {},
   "outputs": [
    {
     "name": "stdout",
     "output_type": "stream",
     "text": [
      "Part 1 solution: 1323\n"
     ]
    }
   ],
   "source": [
    "from collections import defaultdict\n",
    "import itertools\n",
    "\n",
    "def find_triples(connections):\n",
    "    triples = set()\n",
    "    for a, neighbors in connections.items():\n",
    "        for x, y in itertools.combinations(neighbors, 2):\n",
    "            if y in connections[x]:\n",
    "                triples.add(tuple(sorted([a, x, y])))\n",
    "    return triples\n",
    "\n",
    "def grow_clique(clique, connections):\n",
    "    clique = set(clique)\n",
    "    while True:\n",
    "        for x in clique:\n",
    "            for y in connections.get(x):\n",
    "                if connections.get(y).issuperset(clique):\n",
    "                    clique.add(y)\n",
    "                    break\n",
    "            else:\n",
    "                continue\n",
    "            break\n",
    "        else:\n",
    "            break\n",
    "    return clique\n",
    "\n",
    "\n",
    "with open(\"input.txt\", \"r\") as f:\n",
    "    connections = defaultdict(set)\n",
    "    for a, b in (line.strip().split('-') for line in f):\n",
    "        connections[a].add(b)\n",
    "        connections[b].add(a)\n",
    "\n",
    "triples = find_triples(connections)\n",
    "p1 = sum(any(x[0] == 't' for x in triple) for triple in triples)\n",
    "print(f\"Part 1 solution: {p1}\")"
   ]
  },
  {
   "cell_type": "code",
   "execution_count": 17,
   "metadata": {},
   "outputs": [
    {
     "name": "stdout",
     "output_type": "stream",
     "text": [
      "Part 2 solution: er,fh,fi,ir,kk,lo,lp,qi,ti,vb,xf,ys,yu\n"
     ]
    }
   ],
   "source": [
    "max_clique = set()\n",
    "visited = set()\n",
    "\n",
    "for triple in triples:\n",
    "    if triple[0] in visited:\n",
    "        continue\n",
    "    clique = grow_clique(triple, connections)\n",
    "    visited.update(clique)\n",
    "    max_clique = max(max_clique, clique, key=len)\n",
    "\n",
    "p2 = ','.join(sorted(max_clique))\n",
    "print(f\"Part 2 solution: {p2}\")"
   ]
  },
  {
   "cell_type": "code",
   "execution_count": 18,
   "metadata": {},
   "outputs": [
    {
     "name": "stdout",
     "output_type": "stream",
     "text": [
      "Execution time: 0.097 seconds\n"
     ]
    }
   ],
   "source": [
    "end_time = time.time()\n",
    "print(f\"Execution time: {end_time - start_time:.3f} seconds\")"
   ]
  }
 ],
 "metadata": {
  "kernelspec": {
   "display_name": "Python 3",
   "language": "python",
   "name": "python3"
  },
  "language_info": {
   "codemirror_mode": {
    "name": "ipython",
    "version": 3
   },
   "file_extension": ".py",
   "mimetype": "text/x-python",
   "name": "python",
   "nbconvert_exporter": "python",
   "pygments_lexer": "ipython3",
   "version": "3.13.1"
  }
 },
 "nbformat": 4,
 "nbformat_minor": 2
}
