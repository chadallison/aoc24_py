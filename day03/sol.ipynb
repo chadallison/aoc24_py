{
 "cells": [
  {
   "cell_type": "markdown",
   "metadata": {},
   "source": [
    "### Advent of Code 2024: Day 3"
   ]
  },
  {
   "cell_type": "code",
   "execution_count": 33,
   "metadata": {},
   "outputs": [
    {
     "name": "stdout",
     "output_type": "stream",
     "text": [
      "Part 1 solution: 174960292\n",
      "Part 2 solution: 56275602\n"
     ]
    }
   ],
   "source": [
    "import re\n",
    "\n",
    "with open(\"input.txt\") as f:\n",
    "    data = f.read()\n",
    "\n",
    "def solve(part1):\n",
    "    res = 0\n",
    "    do = True\n",
    "    for i, j, k in re.findall(r\"(mul\\((\\d+),(\\d+)\\)|do\\(\\)|don't\\(\\))\", data):\n",
    "        if i == \"don't()\":\n",
    "            do = False\n",
    "        elif i == \"do()\":\n",
    "            do = True\n",
    "        else:\n",
    "            if do or part1:\n",
    "                res += int(j) * int(k)\n",
    "    return res\n",
    "\n",
    "p1 = solve(True)\n",
    "print(f\"Part 1 solution: {p1}\")\n",
    "\n",
    "p2 = solve(False)\n",
    "print(f\"Part 2 solution: {p2}\")"
   ]
  }
 ],
 "metadata": {
  "kernelspec": {
   "display_name": "Python 3",
   "language": "python",
   "name": "python3"
  },
  "language_info": {
   "codemirror_mode": {
    "name": "ipython",
    "version": 3
   },
   "file_extension": ".py",
   "mimetype": "text/x-python",
   "name": "python",
   "nbconvert_exporter": "python",
   "pygments_lexer": "ipython3",
   "version": "3.13.1"
  }
 },
 "nbformat": 4,
 "nbformat_minor": 2
}
