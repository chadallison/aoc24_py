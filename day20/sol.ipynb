{
 "cells": [
  {
   "cell_type": "markdown",
   "metadata": {},
   "source": [
    "### Advent of Code 2024: Day 20"
   ]
  },
  {
   "cell_type": "code",
   "execution_count": 6,
   "metadata": {},
   "outputs": [],
   "source": [
    "import time\n",
    "start_time = time.time()"
   ]
  },
  {
   "cell_type": "code",
   "execution_count": 7,
   "metadata": {},
   "outputs": [
    {
     "name": "stdout",
     "output_type": "stream",
     "text": [
      "Part 1 solution: 1395\n"
     ]
    }
   ],
   "source": [
    "maze = open(file = \"input.txt\", mode = \"r\").read()\n",
    "m_start, m_end = maze.find('S'), maze.find('E')\n",
    "maze = [list(line) for line in maze.split()]\n",
    "x_len = len(maze) + 1\n",
    "x_start, y_start, x_end, y_end, x_prev, y_prev = m_start % x_len, m_start // x_len, m_end % x_len, m_end // x_len, -1, -1\n",
    "x, y, directions = x_start, y_start, {(1, 0), (-1, 0), (0, 1), (0, -1)}\n",
    "maze[y][x] = 0\n",
    "\n",
    "while x != x_end or y != y_end:\n",
    "    for direction in directions:\n",
    "        x1, y1 = x + direction[0], y + direction[1]\n",
    "        if maze[y1][x1] != '#' and (x1 != x_prev or y1 != y_prev):\n",
    "            x, y, x_prev, y_prev = x1, y1, x, y\n",
    "            break\n",
    "    maze[y][x] = maze[y_prev][x_prev] + 1\n",
    "\n",
    "p1 = 0\n",
    "\n",
    "for y in range(1, len(maze) - 1):\n",
    "    for x in range(1, len(maze[0]) - 1):\n",
    "        if maze[y][x] != '#':\n",
    "            for direction in directions:\n",
    "                x1, y1 = x + direction[0], y + direction[1]\n",
    "                if maze[y1][x1] == '#' and 0 < y1 < len(maze) - 1 and 0 < x1 < len(maze[0]) - 1:\n",
    "                    for direction2 in directions:\n",
    "                        x2, y2 = x1 + direction2[0], y1 + direction2[1]\n",
    "                        if maze[y2][x2] != '#' and maze[y2][x2] - maze[y][x] >= 102: p1 += 1\n",
    "\n",
    "print(f\"Part 1 solution: {p1}\")"
   ]
  },
  {
   "cell_type": "code",
   "execution_count": 8,
   "metadata": {},
   "outputs": [
    {
     "name": "stdout",
     "output_type": "stream",
     "text": [
      "Part 2 solution: 993178\n"
     ]
    }
   ],
   "source": [
    "with open(\"input.txt\", \"r\") as file:\n",
    "    maze = file.read()\n",
    "\n",
    "m_start = maze.find('S')\n",
    "m_end = maze.find('E')\n",
    "\n",
    "maze = [list(line) for line in maze.splitlines()]\n",
    "rows = len(maze)\n",
    "cols = len(maze[0]) if rows > 0 else 0\n",
    "\n",
    "x_start, y_start = m_start % (cols + 1), m_start // (cols + 1)\n",
    "x_end, y_end = m_end % (cols + 1), m_end // (cols + 1)\n",
    "\n",
    "from collections import deque\n",
    "queue = deque()\n",
    "queue.append((x_start, y_start))\n",
    "directions = [(1, 0), (-1, 0), (0, 1), (0, -1)]\n",
    "\n",
    "distance = [[-1 for _ in range(cols)] for _ in range(rows)]\n",
    "distance[y_start][x_start] = 0\n",
    "\n",
    "while queue:\n",
    "    x, y = queue.popleft()\n",
    "    if x == x_end and y == y_end:\n",
    "        break\n",
    "    for dx, dy in directions:\n",
    "        x1, y1 = x + dx, y + dy\n",
    "        if 0 <= x1 < cols and 0 <= y1 < rows and maze[y1][x1] != '#' and distance[y1][x1] == -1:\n",
    "            distance[y1][x1] = distance[y][x] + 1\n",
    "            queue.append((x1, y1))\n",
    "\n",
    "p2 = 0\n",
    "for y in range(rows):\n",
    "    for x in range(cols):\n",
    "        if maze[y][x] != '#':\n",
    "            for dx in range(-20, 21):\n",
    "                for dy in range(-20 + abs(dx), 21 - abs(dx)):\n",
    "                    x1, y1 = x + dx, y + dy\n",
    "                    if 0 <= x1 < cols and 0 <= y1 < rows and maze[y1][x1] != '#':\n",
    "                        if distance[y1][x1] - distance[y][x] - abs(dx) - abs(dy) >= 100:\n",
    "                            p2 += 1\n",
    "\n",
    "print(f\"Part 2 solution: {p2}\")"
   ]
  },
  {
   "cell_type": "code",
   "execution_count": 9,
   "metadata": {},
   "outputs": [
    {
     "name": "stdout",
     "output_type": "stream",
     "text": [
      "Execution time: 3.368 seconds\n"
     ]
    }
   ],
   "source": [
    "end_time = time.time()\n",
    "print(f\"Execution time: {end_time - start_time:.3f} seconds\")"
   ]
  }
 ],
 "metadata": {
  "kernelspec": {
   "display_name": "Python 3",
   "language": "python",
   "name": "python3"
  },
  "language_info": {
   "codemirror_mode": {
    "name": "ipython",
    "version": 3
   },
   "file_extension": ".py",
   "mimetype": "text/x-python",
   "name": "python",
   "nbconvert_exporter": "python",
   "pygments_lexer": "ipython3",
   "version": "3.13.1"
  }
 },
 "nbformat": 4,
 "nbformat_minor": 2
}
