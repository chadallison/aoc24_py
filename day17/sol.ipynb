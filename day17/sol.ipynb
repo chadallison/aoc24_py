{
 "cells": [
  {
   "cell_type": "markdown",
   "metadata": {},
   "source": [
    "### Advent of Code 2024: Day 17"
   ]
  },
  {
   "cell_type": "code",
   "execution_count": 79,
   "metadata": {},
   "outputs": [],
   "source": [
    "import time\n",
    "start_time = time.time()"
   ]
  },
  {
   "cell_type": "code",
   "execution_count": 80,
   "metadata": {},
   "outputs": [
    {
     "name": "stdout",
     "output_type": "stream",
     "text": [
      "Part 1 solution: 1,3,7,4,6,4,2,3,5\n"
     ]
    }
   ],
   "source": [
    "from re import findall\n",
    "a, b, c, *prog = [int(n) for n in findall(\"(\\\\d+)\", open(\"input.txt\").read())]\n",
    "\n",
    "def run(prog, a):\n",
    "    ip, b, c, out = 0, 0, 0, []\n",
    "    while ip >= 0 and ip < len(prog):\n",
    "        lit, combo = prog[ip + 1], [0, 1, 2, 3, a, b, c, 99999][prog[ip + 1]]\n",
    "        match prog[ip]:\n",
    "            case 0: a = int(a / 2 ** combo)\n",
    "            case 1: b = b ^ lit\n",
    "            case 2: b = combo % 8\n",
    "            case 3: ip = ip if a == 0 else lit - 2\n",
    "            case 4: b = b ^ c\n",
    "            case 5: out.append(combo % 8)\n",
    "            case 6: b = int(a / 2 ** combo)\n",
    "            case 7: c = int(a / 2 ** combo)\n",
    "        ip += 2\n",
    "    return out\n",
    "\n",
    "p1 = \",\".join(str(n) for n in run(prog, a))\n",
    "print(f\"Part 1 solution: {p1}\")"
   ]
  },
  {
   "cell_type": "code",
   "execution_count": 81,
   "metadata": {},
   "outputs": [
    {
     "name": "stdout",
     "output_type": "stream",
     "text": [
      "Part 2 solution: 202367025818154\n"
     ]
    }
   ],
   "source": [
    "target = prog[::-1]\n",
    "\n",
    "def find_a(a = 0, depth = 0):\n",
    "    if depth == len(target):\n",
    "        return a\n",
    "    for i in range(8):\n",
    "        output = run(prog, a * 8 + i)\n",
    "        if output and output[0] == target[depth]:\n",
    "            if result := find_a((a * 8 + i), depth + 1): \n",
    "                return result\n",
    "    return 0\n",
    "\n",
    "p2 = find_a()\n",
    "print(f\"Part 2 solution: {p2}\")"
   ]
  },
  {
   "cell_type": "code",
   "execution_count": 82,
   "metadata": {},
   "outputs": [
    {
     "name": "stdout",
     "output_type": "stream",
     "text": [
      "Execution time: 0.031 seconds\n"
     ]
    }
   ],
   "source": [
    "end_time = time.time()\n",
    "print(f\"Execution time: {end_time - start_time:.3f} seconds\")"
   ]
  }
 ],
 "metadata": {
  "kernelspec": {
   "display_name": "Python 3",
   "language": "python",
   "name": "python3"
  },
  "language_info": {
   "codemirror_mode": {
    "name": "ipython",
    "version": 3
   },
   "file_extension": ".py",
   "mimetype": "text/x-python",
   "name": "python",
   "nbconvert_exporter": "python",
   "pygments_lexer": "ipython3",
   "version": "3.13.1"
  }
 },
 "nbformat": 4,
 "nbformat_minor": 2
}
