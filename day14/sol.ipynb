{
 "cells": [
  {
   "cell_type": "markdown",
   "metadata": {},
   "source": [
    "### Advent of Code 2024: Day 14"
   ]
  },
  {
   "cell_type": "code",
   "execution_count": 70,
   "metadata": {},
   "outputs": [
    {
     "name": "stdout",
     "output_type": "stream",
     "text": [
      "Part 1 solution: 214109808\n",
      "Part 2 solution: 7687\n"
     ]
    }
   ],
   "source": [
    "import re\n",
    "from itertools import count\n",
    "from math import prod\n",
    "\n",
    "def parse_input():\n",
    "    with open(\"input.txt\", \"r\") as file:\n",
    "        data = file.read()\n",
    "    pattern = r\"p=(-?\\d+),(-?\\d+) v=(-?\\d+),(-?\\d+)\"\n",
    "    return [list(map(int, x)) for x in re.findall(pattern, data)]\n",
    "\n",
    "ROBOTS = parse_input()\n",
    "N, M = 103, 101\n",
    "\n",
    "def step(j, i, dj, di, t):\n",
    "    di *= t\n",
    "    dj *= t\n",
    "    i = (i + di) % N\n",
    "    j = (j + dj) % M\n",
    "    return i, j\n",
    "\n",
    "def draw(positions):\n",
    "    grid = [[\".\"] * M for _ in range(N)]\n",
    "    for i, j in positions:\n",
    "        grid[i][j] = \"\\u2588\"\n",
    "\n",
    "def part_one():\n",
    "    quadrants = [0] * 4\n",
    "    for i, j in (step(*robot, 100) for robot in ROBOTS):\n",
    "        n = (N >> 1) + 1\n",
    "        m = (M >> 1) + 1\n",
    "        x, r = divmod(i, n)\n",
    "        y, rr = divmod(j, m)\n",
    "        if r == n - 1 or rr == m - 1:\n",
    "            continue\n",
    "        quadrants[x * 2 + y] += 1\n",
    "    return prod(quadrants)\n",
    "\n",
    "def part_two():\n",
    "    for t in count():\n",
    "        cur = {step(*robot, t) for robot in ROBOTS}\n",
    "        if len(cur) == len(ROBOTS):\n",
    "            draw(cur)\n",
    "            return t\n",
    "\n",
    "p1 = part_one()\n",
    "print(f\"Part 1 solution: {p1}\")\n",
    "\n",
    "p2 = part_two()\n",
    "print(f\"Part 2 solution: {p2}\")"
   ]
  }
 ],
 "metadata": {
  "kernelspec": {
   "display_name": "Python 3",
   "language": "python",
   "name": "python3"
  },
  "language_info": {
   "codemirror_mode": {
    "name": "ipython",
    "version": 3
   },
   "file_extension": ".py",
   "mimetype": "text/x-python",
   "name": "python",
   "nbconvert_exporter": "python",
   "pygments_lexer": "ipython3",
   "version": "3.13.1"
  }
 },
 "nbformat": 4,
 "nbformat_minor": 2
}
